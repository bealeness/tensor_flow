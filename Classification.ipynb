{
 "cells": [
  {
   "cell_type": "markdown",
   "id": "1271fa56",
   "metadata": {},
   "source": [
    "## Imports"
   ]
  },
  {
   "cell_type": "code",
   "execution_count": 2,
   "id": "f48faa90",
   "metadata": {},
   "outputs": [],
   "source": [
    "from __future__ import absolute_import, division, print_function, unicode_literals\n",
    "\n",
    "\n",
    "import tensorflow as tf\n",
    "\n",
    "import pandas as pd"
   ]
  },
  {
   "cell_type": "markdown",
   "id": "3bd8ae7a",
   "metadata": {},
   "source": [
    "There will be three different classes of flower species.  Given the data we have from the dataset we want the classification model to tell us to which species the flower is most likely to belong to.  To do this we have to train it with training data that contains all the information including species, then we test it against test data that has species popped off."
   ]
  },
  {
   "cell_type": "code",
   "execution_count": 3,
   "id": "a47951d4",
   "metadata": {},
   "outputs": [],
   "source": [
    "CSV_COLUMN_NAMES = ['SepalLength', 'SepalWidth', 'PetalLength', 'PetalWidth', 'Species']\n",
    "SPECIES = ['Setosa', 'Versicolor', 'Virginica']\n",
    "# Lets define some constants to help us later on"
   ]
  },
  {
   "cell_type": "code",
   "execution_count": 4,
   "id": "1e26d977",
   "metadata": {},
   "outputs": [
    {
     "name": "stdout",
     "output_type": "stream",
     "text": [
      "Downloading data from https://storage.googleapis.com/download.tensorflow.org/data/iris_training.csv\n",
      "16384/2194 [================================================================================================================================================================================================================================] - 0s 0us/step\n",
      "Downloading data from https://storage.googleapis.com/download.tensorflow.org/data/iris_test.csv\n",
      "16384/573 [=========================================================================================================================================================================================================================================================================================================================================================================================================================================================================================================================================================================================================================================================================================================================================================================================================================================================================================] - 0s 0us/step\n"
     ]
    }
   ],
   "source": [
    "train_path = tf.keras.utils.get_file(\n",
    "    \"iris_training.csv\", \"https://storage.googleapis.com/download.tensorflow.org/data/iris_training.csv\")\n",
    "test_path = tf.keras.utils.get_file(\n",
    "    \"iris_test.csv\", \"https://storage.googleapis.com/download.tensorflow.org/data/iris_test.csv\")\n",
    "\n",
    "train = pd.read_csv(train_path, names=CSV_COLUMN_NAMES, header=0)\n",
    "test = pd.read_csv(test_path, names=CSV_COLUMN_NAMES, header=0)\n",
    "# Here we use keras (a module inside of TensorFlow) to grab our datasets and read them into a pandas dataframe"
   ]
  },
  {
   "cell_type": "code",
   "execution_count": 5,
   "id": "6a500c49",
   "metadata": {},
   "outputs": [
    {
     "data": {
      "text/html": [
       "<div>\n",
       "<style scoped>\n",
       "    .dataframe tbody tr th:only-of-type {\n",
       "        vertical-align: middle;\n",
       "    }\n",
       "\n",
       "    .dataframe tbody tr th {\n",
       "        vertical-align: top;\n",
       "    }\n",
       "\n",
       "    .dataframe thead th {\n",
       "        text-align: right;\n",
       "    }\n",
       "</style>\n",
       "<table border=\"1\" class=\"dataframe\">\n",
       "  <thead>\n",
       "    <tr style=\"text-align: right;\">\n",
       "      <th></th>\n",
       "      <th>SepalLength</th>\n",
       "      <th>SepalWidth</th>\n",
       "      <th>PetalLength</th>\n",
       "      <th>PetalWidth</th>\n",
       "      <th>Species</th>\n",
       "    </tr>\n",
       "  </thead>\n",
       "  <tbody>\n",
       "    <tr>\n",
       "      <th>0</th>\n",
       "      <td>6.4</td>\n",
       "      <td>2.8</td>\n",
       "      <td>5.6</td>\n",
       "      <td>2.2</td>\n",
       "      <td>2</td>\n",
       "    </tr>\n",
       "    <tr>\n",
       "      <th>1</th>\n",
       "      <td>5.0</td>\n",
       "      <td>2.3</td>\n",
       "      <td>3.3</td>\n",
       "      <td>1.0</td>\n",
       "      <td>1</td>\n",
       "    </tr>\n",
       "    <tr>\n",
       "      <th>2</th>\n",
       "      <td>4.9</td>\n",
       "      <td>2.5</td>\n",
       "      <td>4.5</td>\n",
       "      <td>1.7</td>\n",
       "      <td>2</td>\n",
       "    </tr>\n",
       "    <tr>\n",
       "      <th>3</th>\n",
       "      <td>4.9</td>\n",
       "      <td>3.1</td>\n",
       "      <td>1.5</td>\n",
       "      <td>0.1</td>\n",
       "      <td>0</td>\n",
       "    </tr>\n",
       "    <tr>\n",
       "      <th>4</th>\n",
       "      <td>5.7</td>\n",
       "      <td>3.8</td>\n",
       "      <td>1.7</td>\n",
       "      <td>0.3</td>\n",
       "      <td>0</td>\n",
       "    </tr>\n",
       "  </tbody>\n",
       "</table>\n",
       "</div>"
      ],
      "text/plain": [
       "   SepalLength  SepalWidth  PetalLength  PetalWidth  Species\n",
       "0          6.4         2.8          5.6         2.2        2\n",
       "1          5.0         2.3          3.3         1.0        1\n",
       "2          4.9         2.5          4.5         1.7        2\n",
       "3          4.9         3.1          1.5         0.1        0\n",
       "4          5.7         3.8          1.7         0.3        0"
      ]
     },
     "execution_count": 5,
     "metadata": {},
     "output_type": "execute_result"
    }
   ],
   "source": [
    "train.head()"
   ]
  },
  {
   "cell_type": "markdown",
   "id": "530ed8b2",
   "metadata": {},
   "source": [
    "Pop off \"species\" column"
   ]
  },
  {
   "cell_type": "code",
   "execution_count": 6,
   "id": "b770e533",
   "metadata": {},
   "outputs": [
    {
     "data": {
      "text/html": [
       "<div>\n",
       "<style scoped>\n",
       "    .dataframe tbody tr th:only-of-type {\n",
       "        vertical-align: middle;\n",
       "    }\n",
       "\n",
       "    .dataframe tbody tr th {\n",
       "        vertical-align: top;\n",
       "    }\n",
       "\n",
       "    .dataframe thead th {\n",
       "        text-align: right;\n",
       "    }\n",
       "</style>\n",
       "<table border=\"1\" class=\"dataframe\">\n",
       "  <thead>\n",
       "    <tr style=\"text-align: right;\">\n",
       "      <th></th>\n",
       "      <th>SepalLength</th>\n",
       "      <th>SepalWidth</th>\n",
       "      <th>PetalLength</th>\n",
       "      <th>PetalWidth</th>\n",
       "    </tr>\n",
       "  </thead>\n",
       "  <tbody>\n",
       "    <tr>\n",
       "      <th>0</th>\n",
       "      <td>6.4</td>\n",
       "      <td>2.8</td>\n",
       "      <td>5.6</td>\n",
       "      <td>2.2</td>\n",
       "    </tr>\n",
       "    <tr>\n",
       "      <th>1</th>\n",
       "      <td>5.0</td>\n",
       "      <td>2.3</td>\n",
       "      <td>3.3</td>\n",
       "      <td>1.0</td>\n",
       "    </tr>\n",
       "    <tr>\n",
       "      <th>2</th>\n",
       "      <td>4.9</td>\n",
       "      <td>2.5</td>\n",
       "      <td>4.5</td>\n",
       "      <td>1.7</td>\n",
       "    </tr>\n",
       "    <tr>\n",
       "      <th>3</th>\n",
       "      <td>4.9</td>\n",
       "      <td>3.1</td>\n",
       "      <td>1.5</td>\n",
       "      <td>0.1</td>\n",
       "    </tr>\n",
       "    <tr>\n",
       "      <th>4</th>\n",
       "      <td>5.7</td>\n",
       "      <td>3.8</td>\n",
       "      <td>1.7</td>\n",
       "      <td>0.3</td>\n",
       "    </tr>\n",
       "  </tbody>\n",
       "</table>\n",
       "</div>"
      ],
      "text/plain": [
       "   SepalLength  SepalWidth  PetalLength  PetalWidth\n",
       "0          6.4         2.8          5.6         2.2\n",
       "1          5.0         2.3          3.3         1.0\n",
       "2          4.9         2.5          4.5         1.7\n",
       "3          4.9         3.1          1.5         0.1\n",
       "4          5.7         3.8          1.7         0.3"
      ]
     },
     "execution_count": 6,
     "metadata": {},
     "output_type": "execute_result"
    }
   ],
   "source": [
    "train_y = train.pop('Species')\n",
    "test_y = test.pop('Species')\n",
    "train.head() # the species column is now gone"
   ]
  },
  {
   "cell_type": "code",
   "execution_count": 8,
   "id": "21dadf3d",
   "metadata": {},
   "outputs": [
    {
     "data": {
      "text/plain": [
       "(120, 4)"
      ]
     },
     "execution_count": 8,
     "metadata": {},
     "output_type": "execute_result"
    }
   ],
   "source": [
    "train.shape"
   ]
  },
  {
   "cell_type": "markdown",
   "id": "58815403",
   "metadata": {},
   "source": [
    "## Input Function"
   ]
  },
  {
   "cell_type": "code",
   "execution_count": 9,
   "id": "52fb0357",
   "metadata": {},
   "outputs": [
    {
     "name": "stdout",
     "output_type": "stream",
     "text": [
      "[NumericColumn(key='SepalLength', shape=(1,), default_value=None, dtype=tf.float32, normalizer_fn=None), NumericColumn(key='SepalWidth', shape=(1,), default_value=None, dtype=tf.float32, normalizer_fn=None), NumericColumn(key='PetalLength', shape=(1,), default_value=None, dtype=tf.float32, normalizer_fn=None), NumericColumn(key='PetalWidth', shape=(1,), default_value=None, dtype=tf.float32, normalizer_fn=None)]\n"
     ]
    }
   ],
   "source": [
    "def input_fn(features, labels, training=True, batch_size=256):\n",
    "    # Convert the inputs to a Dataset.\n",
    "    dataset = tf.data.Dataset.from_tensor_slices((dict(features), labels))\n",
    "\n",
    "    # Shuffle and repeat if you are in training mode.\n",
    "    if training:\n",
    "        dataset = dataset.shuffle(1000).repeat()\n",
    "    \n",
    "    return dataset.batch(batch_size)\n",
    "\n",
    "# Feature columns describe how to use the input.\n",
    "my_feature_columns = []\n",
    "for key in train.keys():\n",
    "    my_feature_columns.append(tf.feature_column.numeric_column(key=key))\n",
    "print(my_feature_columns)"
   ]
  },
  {
   "cell_type": "markdown",
   "id": "effe7f4e",
   "metadata": {},
   "source": [
    "## Build the model using DNN Classifier (Deep Neural Network)"
   ]
  },
  {
   "cell_type": "code",
   "execution_count": 11,
   "id": "299f717f",
   "metadata": {},
   "outputs": [
    {
     "name": "stdout",
     "output_type": "stream",
     "text": [
      "INFO:tensorflow:Using default config.\n",
      "WARNING:tensorflow:Using temporary folder as model directory: /tmp/tmptup_el_c\n",
      "INFO:tensorflow:Using config: {'_model_dir': '/tmp/tmptup_el_c', '_tf_random_seed': None, '_save_summary_steps': 100, '_save_checkpoints_steps': None, '_save_checkpoints_secs': 600, '_session_config': allow_soft_placement: true\n",
      "graph_options {\n",
      "  rewrite_options {\n",
      "    meta_optimizer_iterations: ONE\n",
      "  }\n",
      "}\n",
      ", '_keep_checkpoint_max': 5, '_keep_checkpoint_every_n_hours': 10000, '_log_step_count_steps': 100, '_train_distribute': None, '_device_fn': None, '_protocol': None, '_eval_distribute': None, '_experimental_distribute': None, '_experimental_max_worker_delay_secs': None, '_session_creation_timeout_secs': 7200, '_checkpoint_save_graph_def': True, '_service': None, '_cluster_spec': ClusterSpec({}), '_task_type': 'worker', '_task_id': 0, '_global_id_in_cluster': 0, '_master': '', '_evaluation_master': '', '_is_chief': True, '_num_ps_replicas': 0, '_num_worker_replicas': 1}\n"
     ]
    }
   ],
   "source": [
    "# Build a DNN with 2 hidden layers with 30 and 10 hidden nodes each.\n",
    "classifier = tf.estimator.DNNClassifier(\n",
    "    feature_columns=my_feature_columns,\n",
    "    # Two hidden layers of 30 and 10 nodes respectively. (Neural Network Architecture)\n",
    "    hidden_units=[30, 10],\n",
    "    # The model must choose between 3 classes. (Corresponding to three flower species)\n",
    "    n_classes=3)"
   ]
  },
  {
   "cell_type": "markdown",
   "id": "d367b461",
   "metadata": {},
   "source": [
    "## Training the model"
   ]
  },
  {
   "cell_type": "code",
   "execution_count": 12,
   "id": "af422ae2",
   "metadata": {},
   "outputs": [
    {
     "name": "stdout",
     "output_type": "stream",
     "text": [
      "WARNING:tensorflow:From /home/bealeness/tensor_flow/venv/lib/python3.8/site-packages/tensorflow/python/training/training_util.py:400: Variable.initialized_value (from tensorflow.python.ops.variables) is deprecated and will be removed in a future version.\n",
      "Instructions for updating:\n",
      "Use Variable.read_value. Variables in 2.X are initialized automatically both in eager and graph (inside tf.defun) contexts.\n",
      "INFO:tensorflow:Calling model_fn.\n",
      "WARNING:tensorflow:From /home/bealeness/tensor_flow/venv/lib/python3.8/site-packages/keras/optimizer_v2/adagrad.py:83: calling Constant.__init__ (from tensorflow.python.ops.init_ops) with dtype is deprecated and will be removed in a future version.\n",
      "Instructions for updating:\n",
      "Call initializer instance with the dtype argument instead of passing it to the constructor\n",
      "INFO:tensorflow:Done calling model_fn.\n",
      "INFO:tensorflow:Create CheckpointSaverHook.\n",
      "INFO:tensorflow:Graph was finalized.\n",
      "INFO:tensorflow:Running local_init_op.\n",
      "INFO:tensorflow:Done running local_init_op.\n",
      "INFO:tensorflow:Calling checkpoint listeners before saving checkpoint 0...\n",
      "INFO:tensorflow:Saving checkpoints for 0 into /tmp/tmptup_el_c/model.ckpt.\n",
      "INFO:tensorflow:Calling checkpoint listeners after saving checkpoint 0...\n",
      "INFO:tensorflow:loss = 1.0943811, step = 0\n",
      "INFO:tensorflow:global_step/sec: 396.57\n",
      "INFO:tensorflow:loss = 0.9226279, step = 100 (0.253 sec)\n",
      "INFO:tensorflow:global_step/sec: 474.985\n",
      "INFO:tensorflow:loss = 0.8590453, step = 200 (0.211 sec)\n",
      "INFO:tensorflow:global_step/sec: 454.471\n",
      "INFO:tensorflow:loss = 0.8256638, step = 300 (0.220 sec)\n",
      "INFO:tensorflow:global_step/sec: 513.766\n",
      "INFO:tensorflow:loss = 0.7857299, step = 400 (0.195 sec)\n",
      "INFO:tensorflow:global_step/sec: 515.717\n",
      "INFO:tensorflow:loss = 0.7598256, step = 500 (0.195 sec)\n",
      "INFO:tensorflow:global_step/sec: 470.3\n",
      "INFO:tensorflow:loss = 0.75566554, step = 600 (0.212 sec)\n",
      "INFO:tensorflow:global_step/sec: 513.75\n",
      "INFO:tensorflow:loss = 0.7434757, step = 700 (0.194 sec)\n",
      "INFO:tensorflow:global_step/sec: 528.327\n",
      "INFO:tensorflow:loss = 0.70800453, step = 800 (0.189 sec)\n",
      "INFO:tensorflow:global_step/sec: 507.304\n",
      "INFO:tensorflow:loss = 0.6999438, step = 900 (0.197 sec)\n",
      "INFO:tensorflow:global_step/sec: 517.348\n",
      "INFO:tensorflow:loss = 0.6759835, step = 1000 (0.194 sec)\n",
      "INFO:tensorflow:global_step/sec: 441.078\n",
      "INFO:tensorflow:loss = 0.6711643, step = 1100 (0.227 sec)\n",
      "INFO:tensorflow:global_step/sec: 528.165\n",
      "INFO:tensorflow:loss = 0.65622956, step = 1200 (0.189 sec)\n",
      "INFO:tensorflow:global_step/sec: 476.427\n",
      "INFO:tensorflow:loss = 0.64602107, step = 1300 (0.210 sec)\n",
      "INFO:tensorflow:global_step/sec: 533.219\n",
      "INFO:tensorflow:loss = 0.6277351, step = 1400 (0.188 sec)\n",
      "INFO:tensorflow:global_step/sec: 518.526\n",
      "INFO:tensorflow:loss = 0.6120425, step = 1500 (0.192 sec)\n",
      "INFO:tensorflow:global_step/sec: 510.648\n",
      "INFO:tensorflow:loss = 0.6015785, step = 1600 (0.196 sec)\n",
      "INFO:tensorflow:global_step/sec: 513.478\n",
      "INFO:tensorflow:loss = 0.5891558, step = 1700 (0.195 sec)\n",
      "INFO:tensorflow:global_step/sec: 509.23\n",
      "INFO:tensorflow:loss = 0.5795384, step = 1800 (0.196 sec)\n",
      "INFO:tensorflow:global_step/sec: 517.336\n",
      "INFO:tensorflow:loss = 0.5672468, step = 1900 (0.193 sec)\n",
      "INFO:tensorflow:global_step/sec: 519.655\n",
      "INFO:tensorflow:loss = 0.5651924, step = 2000 (0.193 sec)\n",
      "INFO:tensorflow:global_step/sec: 513.025\n",
      "INFO:tensorflow:loss = 0.54521644, step = 2100 (0.195 sec)\n",
      "INFO:tensorflow:global_step/sec: 525.806\n",
      "INFO:tensorflow:loss = 0.5492195, step = 2200 (0.190 sec)\n",
      "INFO:tensorflow:global_step/sec: 512.056\n",
      "INFO:tensorflow:loss = 0.5108558, step = 2300 (0.196 sec)\n",
      "INFO:tensorflow:global_step/sec: 510.549\n",
      "INFO:tensorflow:loss = 0.51690125, step = 2400 (0.196 sec)\n",
      "INFO:tensorflow:global_step/sec: 507.161\n",
      "INFO:tensorflow:loss = 0.52132165, step = 2500 (0.197 sec)\n",
      "INFO:tensorflow:global_step/sec: 523.054\n",
      "INFO:tensorflow:loss = 0.51207155, step = 2600 (0.191 sec)\n",
      "INFO:tensorflow:global_step/sec: 517.564\n",
      "INFO:tensorflow:loss = 0.50062275, step = 2700 (0.193 sec)\n",
      "INFO:tensorflow:global_step/sec: 531.95\n",
      "INFO:tensorflow:loss = 0.48740363, step = 2800 (0.188 sec)\n",
      "INFO:tensorflow:global_step/sec: 531.233\n",
      "INFO:tensorflow:loss = 0.4866122, step = 2900 (0.188 sec)\n",
      "INFO:tensorflow:global_step/sec: 512.092\n",
      "INFO:tensorflow:loss = 0.4691168, step = 3000 (0.196 sec)\n",
      "INFO:tensorflow:global_step/sec: 527.3\n",
      "INFO:tensorflow:loss = 0.4562186, step = 3100 (0.190 sec)\n",
      "INFO:tensorflow:global_step/sec: 508.101\n",
      "INFO:tensorflow:loss = 0.4708077, step = 3200 (0.197 sec)\n",
      "INFO:tensorflow:global_step/sec: 518.072\n",
      "INFO:tensorflow:loss = 0.45342192, step = 3300 (0.193 sec)\n",
      "INFO:tensorflow:global_step/sec: 515.037\n",
      "INFO:tensorflow:loss = 0.44893652, step = 3400 (0.194 sec)\n",
      "INFO:tensorflow:global_step/sec: 436.786\n",
      "INFO:tensorflow:loss = 0.42959824, step = 3500 (0.229 sec)\n",
      "INFO:tensorflow:global_step/sec: 509.604\n",
      "INFO:tensorflow:loss = 0.43089986, step = 3600 (0.196 sec)\n",
      "INFO:tensorflow:global_step/sec: 506.299\n",
      "INFO:tensorflow:loss = 0.42999458, step = 3700 (0.198 sec)\n",
      "INFO:tensorflow:global_step/sec: 429.664\n",
      "INFO:tensorflow:loss = 0.4255307, step = 3800 (0.232 sec)\n",
      "INFO:tensorflow:global_step/sec: 542.875\n",
      "INFO:tensorflow:loss = 0.41702205, step = 3900 (0.184 sec)\n",
      "INFO:tensorflow:global_step/sec: 529.859\n",
      "INFO:tensorflow:loss = 0.40943533, step = 4000 (0.189 sec)\n",
      "INFO:tensorflow:global_step/sec: 523.259\n",
      "INFO:tensorflow:loss = 0.40301016, step = 4100 (0.191 sec)\n",
      "INFO:tensorflow:global_step/sec: 517.502\n",
      "INFO:tensorflow:loss = 0.39760047, step = 4200 (0.193 sec)\n",
      "INFO:tensorflow:global_step/sec: 517.396\n",
      "INFO:tensorflow:loss = 0.4011954, step = 4300 (0.193 sec)\n",
      "INFO:tensorflow:global_step/sec: 506.569\n",
      "INFO:tensorflow:loss = 0.39117435, step = 4400 (0.197 sec)\n",
      "INFO:tensorflow:global_step/sec: 454.986\n",
      "INFO:tensorflow:loss = 0.38804913, step = 4500 (0.220 sec)\n",
      "INFO:tensorflow:global_step/sec: 531.401\n",
      "INFO:tensorflow:loss = 0.38392738, step = 4600 (0.188 sec)\n",
      "INFO:tensorflow:global_step/sec: 570.386\n",
      "INFO:tensorflow:loss = 0.36781704, step = 4700 (0.175 sec)\n",
      "INFO:tensorflow:global_step/sec: 526\n",
      "INFO:tensorflow:loss = 0.37180853, step = 4800 (0.190 sec)\n",
      "INFO:tensorflow:global_step/sec: 520.711\n",
      "INFO:tensorflow:loss = 0.36569056, step = 4900 (0.192 sec)\n",
      "INFO:tensorflow:Calling checkpoint listeners before saving checkpoint 5000...\n",
      "INFO:tensorflow:Saving checkpoints for 5000 into /tmp/tmptup_el_c/model.ckpt.\n",
      "INFO:tensorflow:Calling checkpoint listeners after saving checkpoint 5000...\n",
      "INFO:tensorflow:Loss for final step: 0.37591833.\n"
     ]
    },
    {
     "data": {
      "text/plain": [
       "<tensorflow_estimator.python.estimator.canned.dnn.DNNClassifierV2 at 0x7f6033f0d850>"
      ]
     },
     "execution_count": 12,
     "metadata": {},
     "output_type": "execute_result"
    }
   ],
   "source": [
    "classifier.train(\n",
    "    input_fn=lambda: input_fn(train, train_y, training=True),\n",
    "    steps=5000) # steps are similar to epochs, basically going through 5000 lines\n",
    "# We include a lambda to avoid creating an inner function previously\n",
    "# Lambda allows you to create a function in one line\n",
    "# Example\n",
    "# x = lambda: print(\"hi\")\n",
    "# x() \n",
    "# \"hi\" will print out\n",
    "# Calling a function from inside another function"
   ]
  },
  {
   "cell_type": "markdown",
   "id": "3eb23ef0",
   "metadata": {},
   "source": [
    "Note for above results. The lower the \"loss\" figure the better."
   ]
  },
  {
   "cell_type": "markdown",
   "id": "13109c81",
   "metadata": {},
   "source": [
    "## Evaluation\n",
    "Now lets evaluate the model against our test data to see how well it did"
   ]
  },
  {
   "cell_type": "code",
   "execution_count": 13,
   "id": "db3c18b6",
   "metadata": {},
   "outputs": [
    {
     "name": "stdout",
     "output_type": "stream",
     "text": [
      "INFO:tensorflow:Calling model_fn.\n",
      "INFO:tensorflow:Done calling model_fn.\n",
      "INFO:tensorflow:Starting evaluation at 2022-01-24T13:03:23\n",
      "INFO:tensorflow:Graph was finalized.\n",
      "INFO:tensorflow:Restoring parameters from /tmp/tmptup_el_c/model.ckpt-5000\n",
      "INFO:tensorflow:Running local_init_op.\n",
      "INFO:tensorflow:Done running local_init_op.\n",
      "INFO:tensorflow:Inference Time : 0.33839s\n",
      "INFO:tensorflow:Finished evaluation at 2022-01-24-13:03:23\n",
      "INFO:tensorflow:Saving dict for global step 5000: accuracy = 0.93333334, average_loss = 0.42015922, global_step = 5000, loss = 0.42015922\n",
      "INFO:tensorflow:Saving 'checkpoint_path' summary for global step 5000: /tmp/tmptup_el_c/model.ckpt-5000\n",
      "\n",
      "Test set accuracy: 0.933\n",
      "\n"
     ]
    }
   ],
   "source": [
    "eval_result = classifier.evaluate(\n",
    "    input_fn=lambda: input_fn(test, test_y, training=False))\n",
    "\n",
    "print('\\nTest set accuracy: {accuracy:0.3f}\\n'.format(**eval_result))"
   ]
  },
  {
   "cell_type": "markdown",
   "id": "dc2e6f61",
   "metadata": {},
   "source": [
    "## Prediction"
   ]
  },
  {
   "cell_type": "code",
   "execution_count": 14,
   "id": "0af4d5f6",
   "metadata": {},
   "outputs": [
    {
     "name": "stdout",
     "output_type": "stream",
     "text": [
      "Please type numeric values as prompted.\n",
      "SepalLength: 2.4\n",
      "SepalWidth: 2.6\n",
      "PetalLength: 6.5\n",
      "PetalWidth: 6.3\n",
      "INFO:tensorflow:Calling model_fn.\n",
      "INFO:tensorflow:Done calling model_fn.\n",
      "INFO:tensorflow:Graph was finalized.\n",
      "INFO:tensorflow:Restoring parameters from /tmp/tmptup_el_c/model.ckpt-5000\n",
      "INFO:tensorflow:Running local_init_op.\n",
      "INFO:tensorflow:Done running local_init_op.\n",
      "Prediction is \"Virginica\" (99.9%)\n"
     ]
    }
   ],
   "source": [
    "def input_fn(features, batch_size=256):\n",
    "    # Convert the inputs to a Dataset without labels.\n",
    "    return tf.data.Dataset.from_tensor_slices(dict(features)).batch(batch_size)\n",
    "\n",
    "features = ['SepalLength', 'SepalWidth', 'PetalLength', 'PetalWidth']\n",
    "predict = {}\n",
    "\n",
    "print(\"Please type numeric values as prompted.\")\n",
    "for feature in features:\n",
    "  valid = True\n",
    "  while valid: \n",
    "    val = input(feature + \": \")\n",
    "    if not val.isdigit(): valid = False\n",
    "\n",
    "  predict[feature] = [float(val)]\n",
    "\n",
    "predictions = classifier.predict(input_fn=lambda: input_fn(predict))\n",
    "for pred_dict in predictions:\n",
    "    class_id = pred_dict['class_ids'][0]\n",
    "    probability = pred_dict['probabilities'][class_id]\n",
    "\n",
    "    print('Prediction is \"{}\" ({:.1f}%)'.format(\n",
    "        SPECIES[class_id], 100 * probability))\n"
   ]
  },
  {
   "cell_type": "code",
   "execution_count": null,
   "id": "a2f74af9",
   "metadata": {},
   "outputs": [],
   "source": []
  }
 ],
 "metadata": {
  "kernelspec": {
   "display_name": "Python 3 (ipykernel)",
   "language": "python",
   "name": "python3"
  },
  "language_info": {
   "codemirror_mode": {
    "name": "ipython",
    "version": 3
   },
   "file_extension": ".py",
   "mimetype": "text/x-python",
   "name": "python",
   "nbconvert_exporter": "python",
   "pygments_lexer": "ipython3",
   "version": "3.8.10"
  }
 },
 "nbformat": 4,
 "nbformat_minor": 5
}
