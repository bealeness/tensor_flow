{
 "cells": [
  {
   "cell_type": "markdown",
   "id": "c6b731dd",
   "metadata": {},
   "source": [
    "# Introduction to Neural Networks\n",
    "In this notebook you will learn how to create and use a neural network to classify articles of clothing. To achieve this, we will use a sub module of TensorFlow called *keras*.\n",
    "\n",
    "*This guide is based on the following TensorFlow documentation.*\n",
    "\n",
    "https://www.tensorflow.org/tutorials/keras/classification\n",
    "\n",
    "\n"
   ]
  },
  {
   "cell_type": "markdown",
   "id": "3f6d72c8",
   "metadata": {},
   "source": [
    "## Keras\n",
    "Before we dive in and start discussing neural networks, I'd like to give a breif introduction to keras.\n",
    "\n",
    "From the keras official documentation (https://keras.io/) keras is described as follows.\n",
    "\n",
    "\"Keras is a high-level neural networks API, written in Python and capable of running on top of TensorFlow, CNTK, or Theano. It was developed with a focus on enabling fast experimentation. \n",
    "\n",
    "Use Keras if you need a deep learning library that:\n",
    "\n",
    "- Allows for easy and fast prototyping (through user friendliness, modularity, and extensibility).\n",
    "- Supports both convolutional networks and recurrent networks, as well as combinations of the two.\n",
    "- Runs seamlessly on CPU and GPU.\"\n",
    "\n",
    "Keras is a very powerful module that allows us to avoid having to build neural networks from scratch. It also hides a lot of mathematical complexity (that otherwise we would have to implement) inside of helpful packages, modules and methods.\n",
    "\n",
    "In this guide we will use keras to quickly develop neural networks.\n",
    "\n"
   ]
  },
  {
   "cell_type": "markdown",
   "id": "b0f3d671",
   "metadata": {},
   "source": [
    "## What is a Neural Network\n",
    "So, what are these magical things that have been beating chess grandmasters, driving cars, detecting cancer cells and winning video games? \n",
    "\n",
    "A deep neural network is a layered representation of data. The term \"deep\" refers to the presence of multiple layers. Recall that in our core learning algorithms (like linear regression) data was not transformed or modified within the model, it simply existed in one layer. We passed some features to our model, some math was done, an answer was returned. The data was not changed or transformed throughout this process. A neural network processes our data differently. It attempts to represent our data in different ways and in different dimensions by applying specific operations to transform our data at each layer. Another way to express this is that at each layer our data is transformed in order to learn more about it. By performing these transformations, the model can better understand our data and therefore provide a better prediction. \n",
    "\n"
   ]
  },
  {
   "cell_type": "markdown",
   "id": "6b889881",
   "metadata": {},
   "source": [
    "## How it Works\n",
    "Before going into too much detail I will provide a very surface level explination of how neural networks work on a mathematical level. All the terms and concepts I discuss will be defined and explained in more detail below.\n",
    "\n",
    "On a lower level neural networks are simply a combination of elementry math operations and some more advanced linear algebra. Each neural network consists of a sequence of layers in which data passes through. These layers are made up on neurons and the neurons of one layer are connected to the next (see below). These connections are defined by what we call a weight (some numeric value). Each layer also has something called a bias, this is simply an extra neuron that has no connections and holds a single numeric value. Data starts at the input layer and is trasnformed as it passes through subsequent layers. The data at each subsequent neuron is defined as the following.\n",
    "\n",
    "> $Y =(\\sum_{i=0}^n w_i x_i) + b$\n",
    "\n",
    "> $w$ stands for the weight of each connection to the neuron\n",
    "\n",
    "> $x$ stands for the value of the connected neuron from the previous value\n",
    "\n",
    "> $b$ stands for the bias at each layer, this is a constant\n",
    "\n",
    "> $n$ is the number of connections\n",
    "\n",
    "> $Y$ is the output of the current neuron\n",
    "\n",
    "> $\\sum$ stands for sum\n",
    "\n",
    "The equation you just read is called a weighed sum. We will take this weighted sum at each and every neuron as we pass information through the network. Then we will add what's called a bias to this sum. The bias allows us to shift the network up or down by a constant value. It is like the y-intercept of a line.\n",
    "\n",
    "But that equation is the not complete one! We forgot a crucial part, **the activation function**. This is a function that we apply to the equation seen above to add complexity and dimensionality to our network. Our new equation with the addition of an activation function $F(x)$ is seen below.\n",
    "\n",
    "> $Y =F((\\sum_{i=0}^n w_i x_i) + b)$\n",
    "\n",
    "Our network will start with predefined activation functions (they may be different at each layer) but random weights and biases. As we train the network by feeding it data it will learn the correct weights and biases and adjust the network accordingly using a technqiue called **backpropagation** (explained below). Once the correct weights and biases have been learned our network will hopefully be able to give us meaningful predictions. We get these predictions by observing the values at our final layer, the output layer. \n",
    "\n",
    "\n"
   ]
  },
  {
   "cell_type": "markdown",
   "id": "746d51a4",
   "metadata": {},
   "source": [
    "### Data\n",
    "The type of data a neural network processes varies drastically based on the problem being solved. When we build a neural network, we define what shape and kind of data it can accept. It may sometimes be neccessary to modify our dataset so that it can be passed to our neural network. \n",
    "\n",
    "Some common types of data a neural network uses are listed below.\n",
    "- Vector Data (2D)\n",
    "- Timeseries or Sequence (3D)\n",
    "- Image Data (4D)\n",
    "- Video Data (5D)\n",
    "\n",
    "There are of course many different types or data, but these are the main categories.\n",
    "\n"
   ]
  },
  {
   "cell_type": "markdown",
   "id": "15eae03c",
   "metadata": {},
   "source": [
    "### Layers\n",
    "As we mentioned earlier each neural network consists of multiple layers. At each layer a different transformation of data occurs. Our initial input data is fed through the layers and eventually arrives at the output layer where we will obtain the result.\n",
    "####Input Layer\n",
    "The input layer is the layer that our initial data is passed to. It is the first layer in our neural network.\n",
    "####Output Layer\n",
    "The output layer is the layer that we will retrive our results from. Once the data has passed through all other layers it will arrive here.\n",
    "####Hidden Layer(s)\n",
    "All the other layers in our neural network are called \"hidden layers\". This is because they are hidden to us, we cannot observe them. Most neural networks consist of at least one hidden layer but can have an unlimited amount. Typically, the more complex the model the more hidden layers.\n",
    "####Neurons\n",
    "Each layer is made up of what are called neurons. Neurons have a few different properties that we will discuss later. The important aspect to understand now is that each neuron is responsible for generating/holding/passing ONE numeric value. \n",
    "\n",
    "This means that in the case of our input layer it will have as many neurons as we have input information. For example, say we want to pass an image that is 28x28 pixels, thats 784 pixels. We would need 784 neurons in our input layer to capture each of these pixels. \n",
    "\n",
    "This also means that our output layer will have as many neurons as we have output information. The output is a little more complicated to understand so I'll refrain from an example right now but hopefully you're getting the idea.\n",
    "\n",
    "But what about our hidden layers? Well these have as many neurons as we decide. We'll discuss how we can pick these values later but understand a hidden layer can have any number of neurons.\n",
    "####Connected Layers\n",
    "So how are all these layers connected? Well the neurons in one layer will be connected to neurons in the subsequent layer. However, the neurons can be connected in a variety of different ways. \n",
    "\n",
    "Take for example *Figure 1* (look above). Each neuron in one layer is connected to every neuron in the next layer. This is called a **dense** layer. There are many other ways of connecting layers but well discuss those as we see them. \n",
    "\n"
   ]
  },
  {
   "cell_type": "markdown",
   "id": "b20c8ce6",
   "metadata": {},
   "source": [
    "### Weights\n",
    "Weights are associated with each connection in our neural network. Every pair of connected nodes will have one weight that denotes the strength of the connection between them. These are vital to the inner workings of a neural network and will be tweaked as the neural network is trained. The model will try to determine what these weights should be to achieve the best result. Weights start out at a constant or random value and will change as the network sees training data."
   ]
  },
  {
   "cell_type": "markdown",
   "id": "1b7ebc81",
   "metadata": {},
   "source": [
    "### Biases\n",
    "Biases are another important part of neural networks and will also be tweaked as the model is trained. A bias is simply a constant value associated with each layer. It can be thought of as an extra neuron that has no connections. The purpose of a bias is to shift an entire activation function by a constant value. This allows a lot more flexibllity when it comes to choosing an activation and training the network. There is one bias for each layer."
   ]
  },
  {
   "cell_type": "markdown",
   "id": "6cb9ab91",
   "metadata": {},
   "source": [
    "### Activation Function\n",
    "Activation functions are simply a function that is applied to the weighed sum of a neuron. They can be anything we want but are typically higher order/degree functions that aim to add a higher dimension to our data. We would want to do this to introduce more comolexity to our model. By transforming our data to a higher dimension, we can typically make better, more complex predictions.\n",
    "\n",
    "A list of some common activation functions and their graphs can be seen below.\n",
    "\n",
    "- Relu (Rectified Linear Unit)\n",
    "\n",
    "![alt text](https://yashuseth.files.wordpress.com/2018/02/relu-function.png?w=309&h=274)\n",
    "- Tanh (Hyperbolic Tangent)\n",
    "\n",
    "![alt text](http://mathworld.wolfram.com/images/interactive/TanhReal.gif)\n",
    "- Sigmoid \n",
    "\n",
    "![alt text](https://miro.medium.com/max/970/1*Xu7B5y9gp0iL5ooBj7LtWw.png)\n",
    "\n"
   ]
  },
  {
   "cell_type": "markdown",
   "id": "0a75c808",
   "metadata": {},
   "source": [
    "### Backpropagation\n",
    "Backpropagation is the fundemental algorithm behind training neural networks. It is what changes the weights and biases of our network. To fully explain this process, we need to start by discussing something called a cost/loss function.\n",
    "\n",
    "#### Loss/Cost Function\n",
    "As we now know our neural network feeds information through the layers until it eventually reaches an output layer. This layer contains the results that we look at to determine the prediciton from our network. In the training phase it is likely that our network will make many mistakes and poor predicitions. In fact, at the start of training our network doesn't know anything (it has random weights and biases)! \n",
    "\n",
    "We need some way of evaluating if the network is doing well and how well it is doing. For our training data we have the features (input) and the labels (expected output), because of this we can compare the output from our network to the expected output. Based on the difference between these values we can determine if our network has done a good job or poor job. If the network has done a good job, we'll make minor changes to the weights and biases. If it has done a poor job our changes may be more drastic.\n",
    "\n",
    "So, this is where the cost/loss function comes in. This function is responsible for determining how well the network did. We pass it the output and the expected output, and it returns to us some value representing the cost/loss of the network. This effectively makes the networks job to optimize this cost function, trying to make it as low as possible. \n",
    "\n",
    "Some common loss/cost functions include.\n",
    "- Mean Squared Error\n",
    "- Mean Absolute Error\n",
    "- Hinge Loss\n",
    "\n",
    "#### Gradient Descent\n",
    "Gradient descent and backpropagation are closely related. Gradient descent is the algorithm used to find the optimal paramaters (weights and biases) for our network, while backpropagation is the process of calculating the gradient that is used in the gradient descent step. \n",
    "\n",
    "Gradient descent requires some pretty advanced calculus and linear algebra to understand so we'll stay away from that for now. Let's just read the formal definition for now.\n",
    "\n",
    "\"Gradient descent is an optimization algorithm used to minimize some function by iteratively moving in the direction of steepest descent as defined by the negative of the gradient. In machine learning, we use gradient descent to update the parameters of our model.\" (https://ml-cheatsheet.readthedocs.io/en/latest/gradient_descent.html)\n",
    "\n",
    "And that's all we really need to know for now. I'll direct you to the video for a more in depth explination.\n",
    "\n",
    "![alt text](https://cdn-images-1.medium.com/max/1000/1*iU1QCnSTKrDjIPjSAENLuQ.png)\n",
    "\n"
   ]
  },
  {
   "cell_type": "markdown",
   "id": "e02f6c2a",
   "metadata": {},
   "source": [
    "### Optimizer\n",
    "You may sometimes see the term optimizer or optimization function. This is simply the function that implements the backpropagation algorithm described above. Here's a list of a few common ones.\n",
    "- Gradient Descent\n",
    "- Stochastic Gradient Descent\n",
    "- Mini-Batch Gradient Descent\n",
    "- Momentum\n",
    "- Nesterov Accelerated Gradient\n",
    "\n",
    "*This article explains them quite well is where I've pulled this list from.*\n",
    "\n",
    "(https://medium.com/@sdoshi579/optimizers-for-training-neural-network-59450d71caf6)"
   ]
  },
  {
   "cell_type": "markdown",
   "id": "65b0d06b",
   "metadata": {},
   "source": [
    "## Imports"
   ]
  },
  {
   "cell_type": "code",
   "execution_count": 3,
   "id": "3e3176cc",
   "metadata": {},
   "outputs": [],
   "source": [
    "# TensorFlow and tf.keras\n",
    "import tensorflow as tf\n",
    "from tensorflow import keras\n",
    "\n",
    "# Helper libraries\n",
    "import numpy as np\n",
    "import matplotlib.pyplot as plt"
   ]
  },
  {
   "cell_type": "markdown",
   "id": "0a9d9741",
   "metadata": {},
   "source": [
    "## Dataset"
   ]
  },
  {
   "cell_type": "markdown",
   "id": "2e820e68",
   "metadata": {},
   "source": [
    "For this tutorial we will use the MNIST Fashion Dataset. This is a dataset that is included in keras.\n",
    "\n",
    "This dataset includes 60,000 images for training and 10,000 images for validation/testing."
   ]
  },
  {
   "cell_type": "code",
   "execution_count": 6,
   "id": "6cb9479b",
   "metadata": {},
   "outputs": [],
   "source": [
    "fashion_mnist = keras.datasets.fashion_mnist  # load dataset\n",
    "\n",
    "(train_images, train_labels), (test_images, test_labels) = fashion_mnist.load_data()  # split into tetsing and training"
   ]
  },
  {
   "cell_type": "code",
   "execution_count": 7,
   "id": "b79f3e81",
   "metadata": {},
   "outputs": [
    {
     "data": {
      "text/plain": [
       "(60000, 28, 28)"
      ]
     },
     "execution_count": 7,
     "metadata": {},
     "output_type": "execute_result"
    }
   ],
   "source": [
    "train_images.shape "
   ]
  },
  {
   "cell_type": "markdown",
   "id": "c0bcbc1f",
   "metadata": {},
   "source": [
    "60,000 images of 28 x 28 pixels"
   ]
  },
  {
   "cell_type": "code",
   "execution_count": 8,
   "id": "41c1d59a",
   "metadata": {},
   "outputs": [
    {
     "data": {
      "text/plain": [
       "194"
      ]
     },
     "execution_count": 8,
     "metadata": {},
     "output_type": "execute_result"
    }
   ],
   "source": [
    "train_images[0,23,23]  # let's have a look at one pixel"
   ]
  },
  {
   "cell_type": "markdown",
   "id": "33327abe",
   "metadata": {},
   "source": [
    "Our pixel values are between 0 and 255, 0 being black and 255 being white. This means we have a grayscale image as there are no color channels."
   ]
  },
  {
   "cell_type": "code",
   "execution_count": 9,
   "id": "eb2a75fd",
   "metadata": {},
   "outputs": [
    {
     "data": {
      "text/plain": [
       "array([9, 0, 0, 3, 0, 2, 7, 2, 5, 5], dtype=uint8)"
      ]
     },
     "execution_count": 9,
     "metadata": {},
     "output_type": "execute_result"
    }
   ],
   "source": [
    "train_labels[:10]  # let's have a look at the first 10 training labels"
   ]
  },
  {
   "cell_type": "markdown",
   "id": "643262ea",
   "metadata": {},
   "source": [
    "Our labels are integers ranging from 0 - 9. Each integer represents a specific article of clothing. We'll create an array of label names to indicate which is which."
   ]
  },
  {
   "cell_type": "code",
   "execution_count": 10,
   "id": "fe6b730e",
   "metadata": {},
   "outputs": [],
   "source": [
    "class_names = ['T-shirt/top', 'Trouser', 'Pullover', 'Dress', 'Coat',\n",
    "               'Sandal', 'Shirt', 'Sneaker', 'Bag', 'Ankle boot']"
   ]
  },
  {
   "cell_type": "markdown",
   "id": "2c66a1ed",
   "metadata": {},
   "source": [
    "Fianlly let's look at what some of these images look like!"
   ]
  },
  {
   "cell_type": "code",
   "execution_count": 28,
   "id": "cbb4c347",
   "metadata": {},
   "outputs": [
    {
     "data": {
      "image/png": "[encoded data removed]",
      "text/plain": [
       "<Figure size 432x288 with 2 Axes>"
      ]
     },
     "metadata": {
      "needs_background": "light"
     },
     "output_type": "display_data"
    }
   ],
   "source": [
    "plt.figure()\n",
    "plt.imshow(train_images[0])\n",
    "plt.colorbar()\n",
    "plt.grid(False)\n",
    "plt.show()"
   ]
  },
  {
   "cell_type": "markdown",
   "id": "a8e05e92",
   "metadata": {},
   "source": [
    "## Data Preprocessing\n",
    "The last step before creating our model is to *preprocess* our data. This simply means applying some prior transformations to our data before feeding it the model. In this case we will simply scale all our greyscale pixel values (0-255) to be between 0 and 1. We can do this by dividing each value in the training and testing sets by 255.0. We do this because smaller values will make it easier for the model to process our values. \n",
    "\n"
   ]
  },
  {
   "cell_type": "code",
   "execution_count": 12,
   "id": "da491320",
   "metadata": {},
   "outputs": [],
   "source": [
    "train_images = train_images / 255.0\n",
    "\n",
    "test_images = test_images / 255.0"
   ]
  },
  {
   "cell_type": "markdown",
   "id": "24198e99",
   "metadata": {},
   "source": [
    "## Building the Model\n",
    "Now it's time to build the model! We are going to use a keras *sequential* model with three different layers. This model represents a feed-forward neural network (one that passes values from left to right). We'll break down each layer and its architecture below. Note that the hidden layer is using rectified linear unit activation, because the data has already been preprocessed to be between 0 and 1. Divided by 255. "
   ]
  },
  {
   "cell_type": "code",
   "execution_count": 17,
   "id": "813e29c3",
   "metadata": {},
   "outputs": [],
   "source": [
    "model = keras.Sequential([\n",
    "    keras.layers.Flatten(input_shape=(28, 28)),  # input layer (1) 724 input nodes\n",
    "    keras.layers.Dense(128, activation='relu'),  # hidden layer (2) rectified linear unit, 128 neurons each connected to all previous neurons (Dense)\n",
    "    keras.layers.Dense(10, activation='softmax') # output layer (3) 10 output layers ie. 10 classes. Softmax insures probability distribution adding up to 1.\n",
    "])"
   ]
  },
  {
   "cell_type": "markdown",
   "id": "fc1e98e6",
   "metadata": {},
   "source": [
    "**Layer 1:** This is our input layer and it will conist of 784 neurons. We use the flatten layer with an input shape of (28,28) to denote that our input should come in in that shape. The flatten means that our layer will reshape the shape (28,28) array into a vector of 784 neurons so that each pixel will be associated with one neuron.\n",
    "\n",
    "**Layer 2:** This is our first and only hidden layer. The *dense* denotes that this layer will be fully connected and each neuron from the previous layer connects to each neuron of this layer. It has 128 neurons and uses the rectify linear unit activation function.\n",
    "\n",
    "**Layer 3:** This is our output later and is also a dense layer. It has 10 neurons that we will look at to determine our models output. Each neuron represnts the probabillity of a given image being one of the 10 different classes. The activation function *softmax* is used on this layer to calculate a probabillity distribution for each class. This means the value of any neuron in this layer will be between 0 and 1, where 1 represents a high probabillity of the image being that class."
   ]
  },
  {
   "cell_type": "markdown",
   "id": "00219812",
   "metadata": {},
   "source": [
    "### Compile the Model\n",
    "The last step in building the model is to define the loss function, optimizer and metrics we would like to track. I won't go into detail about why we chose each of these right now."
   ]
  },
  {
   "cell_type": "code",
   "execution_count": 18,
   "id": "1a8eb7e4",
   "metadata": {},
   "outputs": [],
   "source": [
    "model.compile(optimizer='adam',  #adam is the model that performs the gradient descent\n",
    "              loss='sparse_categorical_crossentropy',\n",
    "              metrics=['accuracy'])"
   ]
  },
  {
   "cell_type": "markdown",
   "id": "7ed9dbe5",
   "metadata": {},
   "source": [
    "## Training the Model\n",
    "Now it's finally time to train the model. Since we've already done all the work on our data this step is as easy as calling a single method."
   ]
  },
  {
   "cell_type": "code",
   "execution_count": 23,
   "id": "727056d8",
   "metadata": {},
   "outputs": [
    {
     "name": "stdout",
     "output_type": "stream",
     "text": [
      "Epoch 1/8\n",
      "1875/1875 [==============================] - 4s 2ms/step - loss: 0.2302 - accuracy: 0.9138\n",
      "Epoch 2/8\n",
      "1875/1875 [==============================] - 4s 2ms/step - loss: 0.2223 - accuracy: 0.9165\n",
      "Epoch 3/8\n",
      "1875/1875 [==============================] - 4s 2ms/step - loss: 0.2170 - accuracy: 0.9184\n",
      "Epoch 4/8\n",
      "1875/1875 [==============================] - 4s 2ms/step - loss: 0.2116 - accuracy: 0.9216\n",
      "Epoch 5/8\n",
      "1875/1875 [==============================] - 4s 2ms/step - loss: 0.2019 - accuracy: 0.9242\n",
      "Epoch 6/8\n",
      "1875/1875 [==============================] - 4s 2ms/step - loss: 0.1990 - accuracy: 0.9259\n",
      "Epoch 7/8\n",
      "1875/1875 [==============================] - 4s 2ms/step - loss: 0.1917 - accuracy: 0.9282\n",
      "Epoch 8/8\n",
      "1875/1875 [==============================] - 4s 2ms/step - loss: 0.1872 - accuracy: 0.9301\n"
     ]
    },
    {
     "data": {
      "text/plain": [
       "<keras.callbacks.History at 0x7efe7c72ceb0>"
      ]
     },
     "execution_count": 23,
     "metadata": {},
     "output_type": "execute_result"
    }
   ],
   "source": [
    "model.fit(train_images, train_labels, epochs=8)  # we pass the data, labels and epochs and watch the magic!"
   ]
  },
  {
   "cell_type": "markdown",
   "id": "e74b3263",
   "metadata": {},
   "source": [
    "## Evaluating the Model\n",
    "Now it's time to test/evaluate the model. We can do this quite easily using another builtin method from keras.\n",
    "\n",
    "The *verbose* argument is defined from the keras documentation as:\n",
    "\"verbose: 0 or 1. Verbosity mode. 0 = silent, 1 = progress bar.\"\n",
    "(https://keras.io/models/sequential/)"
   ]
  },
  {
   "cell_type": "code",
   "execution_count": 24,
   "id": "670f2050",
   "metadata": {},
   "outputs": [
    {
     "name": "stdout",
     "output_type": "stream",
     "text": [
      "313/313 [==============================] - 0s 1ms/step - loss: 0.3414 - accuracy: 0.8852\n",
      "Test accuracy: 0.885200023651123\n"
     ]
    }
   ],
   "source": [
    "test_loss, test_acc = model.evaluate(test_images,  test_labels, verbose=1) \n",
    "\n",
    "print('Test accuracy:', test_acc)"
   ]
  },
  {
   "cell_type": "markdown",
   "id": "a33b79f8",
   "metadata": {},
   "source": [
    "Notice that test accuracy is lower than training accuracy after 10 epochs. This is called \"over fitting\".  It happens because in training the model is seeing the same data and so it starts memorizing it, giving higher accuracy scores.  In the test cycle it is exposed to new data and so it must rely purely upon its underlying classification and optimization algorithms."
   ]
  },
  {
   "cell_type": "markdown",
   "id": "94a9eb6e",
   "metadata": {},
   "source": [
    "## Making Predictions\n",
    "To make predictions we simply need to pass an array of data in the form we've specified in the input layer to ```.predict()``` method."
   ]
  },
  {
   "cell_type": "code",
   "execution_count": 25,
   "id": "6220cb5a",
   "metadata": {},
   "outputs": [],
   "source": [
    "predictions = model.predict(test_images)"
   ]
  },
  {
   "cell_type": "markdown",
   "id": "54ba3314",
   "metadata": {},
   "source": [
    "This method returns to us an array of predictions for each image we passed it. Let's have a look at the predictions for image 1."
   ]
  },
  {
   "cell_type": "code",
   "execution_count": 31,
   "id": "f7d83f92",
   "metadata": {},
   "outputs": [
    {
     "data": {
      "text/plain": [
       "array([4.33500154e-12, 9.99999881e-01, 1.25567404e-15, 1.06401956e-07,\n",
       "       9.27435351e-11, 7.02181020e-21, 3.32890354e-10, 2.78211273e-26,\n",
       "       3.26504228e-16, 1.20858293e-24], dtype=float32)"
      ]
     },
     "execution_count": 31,
     "metadata": {},
     "output_type": "execute_result"
    }
   ],
   "source": [
    "predictions[3]"
   ]
  },
  {
   "cell_type": "markdown",
   "id": "a792240f",
   "metadata": {},
   "source": [
    "If we wan't to get the value with the highest score we can use a useful function from numpy called ```argmax()```. This simply returns the index of the maximium value from a numpy array. "
   ]
  },
  {
   "cell_type": "code",
   "execution_count": 32,
   "id": "260c63f6",
   "metadata": {},
   "outputs": [
    {
     "data": {
      "text/plain": [
       "1"
      ]
     },
     "execution_count": 32,
     "metadata": {},
     "output_type": "execute_result"
    }
   ],
   "source": [
    "np.argmax(predictions[3])\n"
   ]
  },
  {
   "cell_type": "markdown",
   "id": "2b21c5e7",
   "metadata": {},
   "source": [
    "And we can check if this is correct by looking at the value of the cooresponding test label."
   ]
  },
  {
   "cell_type": "code",
   "execution_count": 33,
   "id": "650b65d8",
   "metadata": {},
   "outputs": [
    {
     "data": {
      "text/plain": [
       "1"
      ]
     },
     "execution_count": 33,
     "metadata": {},
     "output_type": "execute_result"
    }
   ],
   "source": [
    "test_labels[3]"
   ]
  },
  {
   "cell_type": "markdown",
   "id": "289721a0",
   "metadata": {},
   "source": [
    "## Verifying Predictions\n",
    "I've written a small function here to help us verify predictions with some simple visuals."
   ]
  },
  {
   "cell_type": "code",
   "execution_count": 30,
   "id": "fef80bde",
   "metadata": {},
   "outputs": [
    {
     "name": "stdout",
     "output_type": "stream",
     "text": [
      "Pick a number: 3\n"
     ]
    },
    {
     "data": {
      "image/png": "[encoded data removed]",
      "text/plain": [
       "<Figure size 432x288 with 2 Axes>"
      ]
     },
     "metadata": {
      "needs_background": "light"
     },
     "output_type": "display_data"
    }
   ],
   "source": [
    "COLOR = 'white'\n",
    "plt.rcParams['text.color'] = COLOR\n",
    "plt.rcParams['axes.labelcolor'] = COLOR\n",
    "\n",
    "def predict(model, image, correct_label):\n",
    "  class_names = ['T-shirt/top', 'Trouser', 'Pullover', 'Dress', 'Coat',\n",
    "               'Sandal', 'Shirt', 'Sneaker', 'Bag', 'Ankle boot']\n",
    "  prediction = model.predict(np.array([image]))\n",
    "  predicted_class = class_names[np.argmax(prediction)]\n",
    "\n",
    "  show_image(image, class_names[correct_label], predicted_class)\n",
    "\n",
    "\n",
    "def show_image(img, label, guess):\n",
    "  plt.figure()\n",
    "  plt.imshow(img, cmap=plt.cm.binary)\n",
    "  plt.title(\"Excpected: \" + label)\n",
    "  plt.xlabel(\"Guess: \" + guess)\n",
    "  plt.colorbar()\n",
    "  plt.grid(False)\n",
    "  plt.show()\n",
    "\n",
    "\n",
    "def get_number():\n",
    "  while True:\n",
    "    num = input(\"Pick a number: \")\n",
    "    if num.isdigit():\n",
    "      num = int(num)\n",
    "      if 0 <= num <= 1000:\n",
    "        return int(num)\n",
    "    else:\n",
    "      print(\"Try again...\")\n",
    "\n",
    "num = get_number()\n",
    "image = test_images[num]\n",
    "label = test_labels[num]\n",
    "predict(model, image, label)\n"
   ]
  },
  {
   "cell_type": "code",
   "execution_count": null,
   "id": "e85ecdf3",
   "metadata": {},
   "outputs": [],
   "source": []
  }
 ],
 "metadata": {
  "kernelspec": {
   "display_name": "Python 3 (ipykernel)",
   "language": "python",
   "name": "python3"
  },
  "language_info": {
   "codemirror_mode": {
    "name": "ipython",
    "version": 3
   },
   "file_extension": ".py",
   "mimetype": "text/x-python",
   "name": "python",
   "nbconvert_exporter": "python",
   "pygments_lexer": "ipython3",
   "version": "3.8.10"
  }
 },
 "nbformat": 4,
 "nbformat_minor": 5
}
